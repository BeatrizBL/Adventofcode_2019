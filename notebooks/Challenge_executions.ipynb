{
 "cells": [
  {
   "cell_type": "code",
   "execution_count": 1,
   "metadata": {},
   "outputs": [],
   "source": [
    "%load_ext autoreload\n",
    "%autoreload 2"
   ]
  },
  {
   "cell_type": "code",
   "execution_count": 2,
   "metadata": {},
   "outputs": [],
   "source": [
    "import os\n",
    "os.chdir('..')"
   ]
  },
  {
   "cell_type": "code",
   "execution_count": 3,
   "metadata": {},
   "outputs": [
    {
     "data": {
      "text/plain": [
       "RendererRegistry.enable('notebook')"
      ]
     },
     "execution_count": 3,
     "metadata": {},
     "output_type": "execute_result"
    }
   ],
   "source": [
    "import altair as alt\n",
    "alt.renderers.enable('notebook')"
   ]
  },
  {
   "cell_type": "code",
   "execution_count": 8,
   "metadata": {},
   "outputs": [],
   "source": [
    "from src import day1, day2, day4, computer, day6, day7, day10, day11"
   ]
  },
  {
   "cell_type": "markdown",
   "metadata": {},
   "source": [
    "# Day 1\n",
    "## Part 1"
   ]
  },
  {
   "cell_type": "code",
   "execution_count": 8,
   "metadata": {},
   "outputs": [
    {
     "name": "stdout",
     "output_type": "stream",
     "text": [
      "Sum of the fuel requirements: 3337766\n"
     ]
    }
   ],
   "source": [
    "fuel = day1.compute_fuel_requirements('mass.csv')\n",
    "print('Sum of the fuel requirements: {}'.format(fuel))"
   ]
  },
  {
   "cell_type": "markdown",
   "metadata": {},
   "source": [
    "## Part 2"
   ]
  },
  {
   "cell_type": "code",
   "execution_count": 9,
   "metadata": {},
   "outputs": [
    {
     "name": "stdout",
     "output_type": "stream",
     "text": [
      "Sum of the fuel requirements, taking fuel mass into account: 5003788\n"
     ]
    }
   ],
   "source": [
    "fuel = day1.compute_all_fuel_requirements('mass.csv')\n",
    "print('Sum of the fuel requirements, taking fuel mass into account: {}'.format(fuel))"
   ]
  },
  {
   "cell_type": "markdown",
   "metadata": {},
   "source": [
    "# Day 2\n",
    "## Part 1"
   ]
  },
  {
   "cell_type": "code",
   "execution_count": 10,
   "metadata": {},
   "outputs": [],
   "source": [
    "program = [1,0,0,3,1,1,2,3,1,3,4,3,1,5,0,3,2,1,6,19,1,9,19,23,2,23,10,27,1,27,5,31,1,31,6,35,1,6,35,39,2,39,13,43,1,9,43,47,2,9,47,51,1,51,6,55,2,55,10,59,1,59,5,63,2,10,63,67,2,9,67,71,1,71,5,75,2,10,75,79,1,79,6,83,2,10,83,87,1,5,87,91,2,9,91,95,1,95,5,99,1,99,2,103,1,103,13,0,99,2,14,0,0]"
   ]
  },
  {
   "cell_type": "markdown",
   "metadata": {},
   "source": [
    "Restore the gravity assist program to the \"1202 program alarm\" state: replace position 1 with the value 12 and replace position 2 with the value 2."
   ]
  },
  {
   "cell_type": "code",
   "execution_count": 11,
   "metadata": {},
   "outputs": [],
   "source": [
    "program[1] = 12\n",
    "program[2] = 2"
   ]
  },
  {
   "cell_type": "code",
   "execution_count": 13,
   "metadata": {},
   "outputs": [],
   "source": [
    "result = day2.intcode_computer(program)"
   ]
  },
  {
   "cell_type": "code",
   "execution_count": 17,
   "metadata": {},
   "outputs": [
    {
     "name": "stdout",
     "output_type": "stream",
     "text": [
      "Value left at position 0: 3931283\n"
     ]
    }
   ],
   "source": [
    "print('Value left at position 0: {}'.format(result[0]))"
   ]
  },
  {
   "cell_type": "markdown",
   "metadata": {},
   "source": [
    "## Part 2"
   ]
  },
  {
   "cell_type": "code",
   "execution_count": 18,
   "metadata": {},
   "outputs": [],
   "source": [
    "program = [1,0,0,3,1,1,2,3,1,3,4,3,1,5,0,3,2,1,6,19,1,9,19,23,2,23,10,27,1,27,5,31,1,31,6,35,1,6,35,39,2,39,13,43,1,9,43,47,2,9,47,51,1,51,6,55,2,55,10,59,1,59,5,63,2,10,63,67,2,9,67,71,1,71,5,75,2,10,75,79,1,79,6,83,2,10,83,87,1,5,87,91,2,9,91,95,1,95,5,99,1,99,2,103,1,103,13,0,99,2,14,0,0]"
   ]
  },
  {
   "cell_type": "code",
   "execution_count": 19,
   "metadata": {},
   "outputs": [
    {
     "name": "stdout",
     "output_type": "stream",
     "text": [
      "Code error: 6979\n"
     ]
    }
   ],
   "source": [
    "output = 19690720\n",
    "code = day2.get_error_code(output=output, program=program)\n",
    "print('Code error: {}'.format(code))"
   ]
  },
  {
   "cell_type": "markdown",
   "metadata": {},
   "source": [
    "# Day 3\n",
    "This day can be run using \"streamlit run app_day3\", which will launch a streamlit application to get the solution."
   ]
  },
  {
   "cell_type": "markdown",
   "metadata": {},
   "source": [
    "# Day 4\n",
    "## Part 1\n",
    "Although it seems that there should be an explicit formula to solve this problem, it can be obtained by brute force, since the interval of the numbers is not very big."
   ]
  },
  {
   "cell_type": "code",
   "execution_count": 5,
   "metadata": {},
   "outputs": [
    {
     "name": "stdout",
     "output_type": "stream",
     "text": [
      "Number of possible passwords: 1033\n"
     ]
    }
   ],
   "source": [
    "n = day4.count_passwords((254032,789860))\n",
    "print('Number of possible passwords: {}'.format(n))"
   ]
  },
  {
   "cell_type": "markdown",
   "metadata": {},
   "source": [
    "The idea to get the formula would be: _Starting with 52 and ending in 100. For the second digit there are 5 possibilities (from 5 to 9). And if the second digit is fixed, for the last digit there is only one possible value (5 now). So we will have 5 valid values (55, 66, 77, 88, 99)._\n",
    "\n",
    "It might be possible to extend this reasoning to a general case, but it is not obvious how to know that the possible values are still under the upper threshold in an automatic way."
   ]
  },
  {
   "cell_type": "markdown",
   "metadata": {},
   "source": [
    "## Part 2"
   ]
  },
  {
   "cell_type": "code",
   "execution_count": 6,
   "metadata": {},
   "outputs": [
    {
     "name": "stdout",
     "output_type": "stream",
     "text": [
      "Number of possible passwords: 670\n"
     ]
    }
   ],
   "source": [
    "n = day4.count_passwords_part2((254032,789860))\n",
    "print('Number of possible passwords: {}'.format(n))"
   ]
  },
  {
   "cell_type": "markdown",
   "metadata": {},
   "source": [
    "# Day 5\n",
    "## Part 1\n",
    "The computer code has been modified to adapt it to day 7 part 2. The computer run the program in a dedicated thread, which waits for an input to be set. After the execution is finished, the output can be retrieved. \n",
    "\n",
    "In order to store the inputs and outputs two synchronized queues are used (which make it possible to connect several computers). These queues can be passed as argument when the computer is created. "
   ]
  },
  {
   "cell_type": "code",
   "execution_count": 68,
   "metadata": {},
   "outputs": [],
   "source": [
    "f = open('data/raw/day5/program.txt', 'r')\n",
    "program = f.read()\n",
    "program = list(map(int, program.split(',')))"
   ]
  },
  {
   "cell_type": "markdown",
   "metadata": {},
   "source": [
    "Launch the program execution, which keeps waiting until an input is send."
   ]
  },
  {
   "cell_type": "code",
   "execution_count": 24,
   "metadata": {},
   "outputs": [],
   "source": [
    "pc = computer.intcode_computer(program)\n",
    "pc.run_program()"
   ]
  },
  {
   "cell_type": "markdown",
   "metadata": {},
   "source": [
    "Add a new input."
   ]
  },
  {
   "cell_type": "code",
   "execution_count": 25,
   "metadata": {},
   "outputs": [],
   "source": [
    "pc.set_input(1)"
   ]
  },
  {
   "cell_type": "markdown",
   "metadata": {},
   "source": [
    "Get the output."
   ]
  },
  {
   "cell_type": "code",
   "execution_count": 26,
   "metadata": {},
   "outputs": [
    {
     "data": {
      "text/plain": [
       "[0, 0, 0, 0, 0, 0, 0, 0, 0, 5044655]"
      ]
     },
     "execution_count": 26,
     "metadata": {},
     "output_type": "execute_result"
    }
   ],
   "source": [
    "pc.get_output()"
   ]
  },
  {
   "cell_type": "markdown",
   "metadata": {},
   "source": [
    "## Part 2"
   ]
  },
  {
   "cell_type": "code",
   "execution_count": 66,
   "metadata": {},
   "outputs": [
    {
     "data": {
      "text/plain": [
       "[999]"
      ]
     },
     "execution_count": 66,
     "metadata": {},
     "output_type": "execute_result"
    }
   ],
   "source": [
    "test = [3,21,1008,21,8,20,1005,20,22,107,8,21,20,1006,20,31,1106,0,36,98,0,0,1002,21,125,20,4,20,1105,1,46,104,999,1105,1,46,1101,1000,1,20,4,20,1105,1,46,98,99]\n",
    "pc = computer.intcode_computer(test)\n",
    "pc.set_input(2)\n",
    "pc.run_program()\n",
    "pc.get_output()"
   ]
  },
  {
   "cell_type": "code",
   "execution_count": 69,
   "metadata": {},
   "outputs": [
    {
     "name": "stdout",
     "output_type": "stream",
     "text": [
      "Diagnostic code for system ID 5:\n"
     ]
    },
    {
     "data": {
      "text/plain": [
       "[7408802]"
      ]
     },
     "execution_count": 69,
     "metadata": {},
     "output_type": "execute_result"
    }
   ],
   "source": [
    "print('Diagnostic code for system ID 5:')\n",
    "pc = computer.intcode_computer(program)\n",
    "pc.set_input(5)\n",
    "pc.run_program()\n",
    "pc.get_output()"
   ]
  },
  {
   "cell_type": "markdown",
   "metadata": {},
   "source": [
    "# Day 6\n",
    "## Part 1\n",
    "This implementation is quite inefficient, since it uses Depth First Search on the tree, starting always with \"COM\". Then, the same path is computed a lot of different times for big graphs. It could be optimized moving also the starting point.\n",
    "\n",
    "Test tree:"
   ]
  },
  {
   "cell_type": "code",
   "execution_count": 6,
   "metadata": {},
   "outputs": [
    {
     "name": "stdout",
     "output_type": "stream",
     "text": [
      "Number of orbits: 42\n"
     ]
    }
   ],
   "source": [
    "test_programs = ['COM)B', 'B)C', 'C)D', 'D)E', 'E)F', 'B)G', 'G)H', 'D)I', 'E)J', 'J)K', 'K)L']\n",
    "g = day6.create_graph(orbits=test_orbits)\n",
    "print('Number of orbits: {}'.format(day6.count_orbits(g)))"
   ]
  },
  {
   "cell_type": "markdown",
   "metadata": {},
   "source": [
    "Challenge input:"
   ]
  },
  {
   "cell_type": "code",
   "execution_count": 10,
   "metadata": {},
   "outputs": [
    {
     "name": "stdout",
     "output_type": "stream",
     "text": [
      "Number of orbits: 234446\n"
     ]
    }
   ],
   "source": [
    "g = day6.create_graph(orbits_path='orbits.txt',\n",
    "                      root_path='data/raw/day6')\n",
    "print('Number of orbits: {}'.format(day6.count_orbits(g)))"
   ]
  },
  {
   "cell_type": "markdown",
   "metadata": {},
   "source": [
    "## Part 2\n",
    "Now we have to create an undirected graph to represent the orbits, in order to be able to go back in the orbital path.\n",
    "\n",
    "Test graph:"
   ]
  },
  {
   "cell_type": "code",
   "execution_count": 12,
   "metadata": {},
   "outputs": [
    {
     "name": "stdout",
     "output_type": "stream",
     "text": [
      "Number of transfers: 4\n"
     ]
    }
   ],
   "source": [
    "test_orbits = ['COM)B', 'B)C', 'C)D', 'D)E', 'E)F', 'B)G', 'G)H', 'D)I', 'E)J', 'J)K', 'K)L', 'K)YOU', 'I)SAN']\n",
    "g = day6.create_graph(orbits=test_orbits, directed=False)\n",
    "print('Number of transfers: {}'.format(day6.count_transfers(g)))"
   ]
  },
  {
   "cell_type": "markdown",
   "metadata": {},
   "source": [
    "Using test input:"
   ]
  },
  {
   "cell_type": "code",
   "execution_count": 19,
   "metadata": {},
   "outputs": [
    {
     "name": "stdout",
     "output_type": "stream",
     "text": [
      "Number of transfers: 385\n"
     ]
    }
   ],
   "source": [
    "g = day6.create_graph(orbits_path='orbits.txt',\n",
    "                      root_path='data/raw/day6',\n",
    "                      directed=False\n",
    "                     )\n",
    "print('Number of transfers: {}'.format(day6.count_transfers(g)))"
   ]
  },
  {
   "cell_type": "markdown",
   "metadata": {},
   "source": [
    "# Day 7\n",
    "## Part 1\n",
    "Test programs:"
   ]
  },
  {
   "cell_type": "code",
   "execution_count": 62,
   "metadata": {},
   "outputs": [
    {
     "name": "stdout",
     "output_type": "stream",
     "text": [
      "Testing 120 phase settings\n",
      "Max thruster signal 43210 (from phase setting sequence (4, 3, 2, 1, 0))\n"
     ]
    }
   ],
   "source": [
    "test_program = '3,15,3,16,1002,16,10,16,1,16,15,15,4,15,99,0,0' #Solution: 43210 - 4,3,2,1,0\n",
    "# test_program = '3,23,3,24,1002,24,10,24,1002,23,-1,23,101,5,23,23,1,24,23,23,4,23,99,0,0' #Solution: 54321 - 0,1,2,3,4\n",
    "# test_program = '3,31,3,32,1002,32,10,32,1001,31,-2,31,1007,31,0,33,1002,33,7,33,1,33,31,31,1,32,31,31,4,31,99,0,0,0' #Solution: 65210 - 1,0,4,3,2\n",
    "\n",
    "max_phase = day7.highest_amplification_signal(program=test_program,\n",
    "                                              sequence_signals=[0,1,2,3,4])\n",
    "print('Max thruster signal {m} (from phase setting sequence {p})'.format(m=max_phase[1],\n",
    "                                                                         p=max_phase[0]))"
   ]
  },
  {
   "cell_type": "markdown",
   "metadata": {},
   "source": [
    "Challenge input:"
   ]
  },
  {
   "cell_type": "code",
   "execution_count": 63,
   "metadata": {},
   "outputs": [
    {
     "name": "stdout",
     "output_type": "stream",
     "text": [
      "Testing 120 phase settings\n",
      "Max thruster signal 368584 (from phase setting sequence (2, 4, 0, 1, 3))\n"
     ]
    }
   ],
   "source": [
    "max_phase = day7.highest_amplification_signal(program_path='program.txt',\n",
    "                                              root_path='data/raw/day7',\n",
    "                                              sequence_signals=[0,1,2,3,4])\n",
    "print('Max thruster signal {m} (from phase setting sequence {p})'.format(m=max_phase[1],\n",
    "                                                                         p=max_phase[0]))"
   ]
  },
  {
   "cell_type": "markdown",
   "metadata": {},
   "source": [
    "## Part 2\n",
    "Test programs:"
   ]
  },
  {
   "cell_type": "code",
   "execution_count": 64,
   "metadata": {},
   "outputs": [
    {
     "name": "stdout",
     "output_type": "stream",
     "text": [
      "Testing 120 phase settings\n",
      "Max thruster signal 18216 (from phase setting sequence (9, 7, 8, 5, 6))\n"
     ]
    }
   ],
   "source": [
    "# test_program = '3,26,1001,26,-4,26,3,27,1002,27,2,27,1,27,26,27,4,27,1001,28,-1,28,1005,28,6,99,0,0,5' #Solution: 139629729 - 9,8,7,6,5\n",
    "test_program = '3,52,1001,52,-5,52,3,53,1,52,56,54,1007,54,5,55,1005,55,26,1001,54,-5,54,1105,1,12,1,53,54,53,1008,54,0,55,1001,55,1,55,2,53,55,53,4,53,1001,56,-1,56,1005,56,6,99,0,0,0,0,10' #Solution: 18216 - 9,7,8,5,6\n",
    "\n",
    "max_phase = day7.highest_amplification_signal(program=test_program,\n",
    "                                              sequence_signals=[5,6,7,8,9],\n",
    "                                              feedback_loop=True\n",
    "                                             )\n",
    "print('Max thruster signal {m} (from phase setting sequence {p})'.format(m=max_phase[1],\n",
    "                                                                         p=max_phase[0]))"
   ]
  },
  {
   "cell_type": "markdown",
   "metadata": {},
   "source": [
    "Challenge input:"
   ]
  },
  {
   "cell_type": "code",
   "execution_count": 65,
   "metadata": {},
   "outputs": [
    {
     "name": "stdout",
     "output_type": "stream",
     "text": [
      "Testing 120 phase settings\n",
      "Max thruster signal 35993240 (from phase setting sequence (5, 7, 8, 9, 6))\n"
     ]
    }
   ],
   "source": [
    "max_phase = day7.highest_amplification_signal(program_path='program.txt',\n",
    "                                              root_path='data/raw/day7',\n",
    "                                              sequence_signals=[5,6,7,8,9],\n",
    "                                              feedback_loop=True\n",
    "                                             )\n",
    "print('Max thruster signal {m} (from phase setting sequence {p})'.format(m=max_phase[1],\n",
    "                                                                         p=max_phase[0]))"
   ]
  },
  {
   "cell_type": "markdown",
   "metadata": {},
   "source": [
    "# Day 9\n",
    "## Part 1\n",
    "Test programs:"
   ]
  },
  {
   "cell_type": "code",
   "execution_count": 71,
   "metadata": {},
   "outputs": [
    {
     "data": {
      "text/plain": [
       "[109, 1, 204, -1, 1001, 100, 1, 100, 1008, 100, 16, 101, 1006, 101, 0, 99]"
      ]
     },
     "execution_count": 71,
     "metadata": {},
     "output_type": "execute_result"
    }
   ],
   "source": [
    "test_program = [109,1,204,-1,1001,100,1,100,1008,100,16,101,1006,101,0,99] #Solution: Itself\n",
    "# test_program = [1102,34915192,34915192,7,4,7,99] #Solution: 16 digits int\n",
    "# test_program = [104,1125899906842624,99] #Solution: Integer in the middle\n",
    "\n",
    "pc = computer.intcode_computer(test_program)\n",
    "pc.run_program()\n",
    "pc.get_output()"
   ]
  },
  {
   "cell_type": "markdown",
   "metadata": {},
   "source": [
    "Challenge input:"
   ]
  },
  {
   "cell_type": "code",
   "execution_count": 72,
   "metadata": {},
   "outputs": [],
   "source": [
    "f = open('data/raw/day1/program.txt', 'r')\n",
    "program = f.read()\n",
    "program = list(map(int, program.split(',')))"
   ]
  },
  {
   "cell_type": "code",
   "execution_count": 73,
   "metadata": {},
   "outputs": [
    {
     "data": {
      "text/plain": [
       "[2745604242]"
      ]
     },
     "execution_count": 73,
     "metadata": {},
     "output_type": "execute_result"
    }
   ],
   "source": [
    "pc = computer.intcode_computer(program, test_mode=False)\n",
    "pc.set_input(1)\n",
    "pc.run_program()\n",
    "pc.get_output()"
   ]
  },
  {
   "cell_type": "markdown",
   "metadata": {},
   "source": [
    "### Part 2\n",
    "It is the same as part 1 but just changing the input value."
   ]
  },
  {
   "cell_type": "code",
   "execution_count": 74,
   "metadata": {},
   "outputs": [
    {
     "data": {
      "text/plain": [
       "[51135]"
      ]
     },
     "execution_count": 74,
     "metadata": {},
     "output_type": "execute_result"
    }
   ],
   "source": [
    "pc.start_computer()\n",
    "pc.set_input(2)\n",
    "pc.run_program()\n",
    "pc.get_output()"
   ]
  },
  {
   "cell_type": "markdown",
   "metadata": {},
   "source": [
    "## Day 10\n",
    "### Part 1"
   ]
  },
  {
   "cell_type": "code",
   "execution_count": 82,
   "metadata": {},
   "outputs": [
    {
     "data": {
      "application/javascript": [
       "const spec = {\"config\": {\"background\": \"white\", \"view\": {\"width\": 400, \"height\": 300}, \"mark\": {\"tooltip\": null}}, \"data\": {\"name\": \"data-3d985e0706d6db7656f21cf7b9d63ffb\"}, \"mark\": {\"type\": \"circle\", \"size\": 185.1851851851852}, \"encoding\": {\"color\": {\"type\": \"nominal\", \"field\": \"value\", \"sort\": [\"Optimal\", \"Visible\", \"Non visible\"]}, \"x\": {\"type\": \"quantitative\", \"field\": \"x\", \"scale\": {\"domain\": [0, 27]}}, \"y\": {\"type\": \"quantitative\", \"field\": \"y\", \"scale\": {\"domain\": [-27, 0]}}}, \"$schema\": \"https://vega.github.io/schema/vega-lite/v3.4.0.json\", \"datasets\": {\"data-3d985e0706d6db7656f21cf7b9d63ffb\": [{\"x\": 0, \"y\": 0, \"value\": \"Visible\"}, {\"x\": 0, \"y\": -1, \"value\": \"Visible\"}, {\"x\": 0, \"y\": -2, \"value\": \"Visible\"}, {\"x\": 0, \"y\": -5, \"value\": \"Visible\"}, {\"x\": 0, \"y\": -7, \"value\": \"Visible\"}, {\"x\": 0, \"y\": -9, \"value\": \"Non visible\"}, {\"x\": 0, \"y\": -10, \"value\": \"Visible\"}, {\"x\": 0, \"y\": -11, \"value\": \"Non visible\"}, {\"x\": 0, \"y\": -19, \"value\": \"Non visible\"}, {\"x\": 0, \"y\": -21, \"value\": \"Visible\"}, {\"x\": 0, \"y\": -22, \"value\": \"Visible\"}, {\"x\": 1, \"y\": 0, \"value\": \"Visible\"}, {\"x\": 1, \"y\": -4, \"value\": \"Non visible\"}, {\"x\": 1, \"y\": -5, \"value\": \"Non visible\"}, {\"x\": 1, \"y\": -6, \"value\": \"Visible\"}, {\"x\": 1, \"y\": -8, \"value\": \"Visible\"}, {\"x\": 1, \"y\": -10, \"value\": \"Non visible\"}, {\"x\": 1, \"y\": -11, \"value\": \"Visible\"}, {\"x\": 1, \"y\": -13, \"value\": \"Visible\"}, {\"x\": 1, \"y\": -17, \"value\": \"Visible\"}, {\"x\": 1, \"y\": -23, \"value\": \"Visible\"}, {\"x\": 1, \"y\": -25, \"value\": \"Non visible\"}, {\"x\": 1, \"y\": -26, \"value\": \"Non visible\"}, {\"x\": 2, \"y\": 0, \"value\": \"Visible\"}, {\"x\": 2, \"y\": -2, \"value\": \"Visible\"}, {\"x\": 2, \"y\": -3, \"value\": \"Visible\"}, {\"x\": 2, \"y\": -6, \"value\": \"Visible\"}, {\"x\": 2, \"y\": -9, \"value\": \"Non visible\"}, {\"x\": 2, \"y\": -13, \"value\": \"Visible\"}, {\"x\": 2, \"y\": -14, \"value\": \"Non visible\"}, {\"x\": 2, \"y\": -19, \"value\": \"Non visible\"}, {\"x\": 2, \"y\": -20, \"value\": \"Visible\"}, {\"x\": 2, \"y\": -21, \"value\": \"Visible\"}, {\"x\": 2, \"y\": -24, \"value\": \"Non visible\"}, {\"x\": 3, \"y\": -1, \"value\": \"Visible\"}, {\"x\": 3, \"y\": -2, \"value\": \"Visible\"}, {\"x\": 3, \"y\": -4, \"value\": \"Visible\"}, {\"x\": 3, \"y\": -7, \"value\": \"Visible\"}, {\"x\": 3, \"y\": -9, \"value\": \"Visible\"}, {\"x\": 3, \"y\": -11, \"value\": \"Visible\"}, {\"x\": 3, \"y\": -13, \"value\": \"Visible\"}, {\"x\": 3, \"y\": -14, \"value\": \"Visible\"}, {\"x\": 3, \"y\": -16, \"value\": \"Visible\"}, {\"x\": 3, \"y\": -17, \"value\": \"Visible\"}, {\"x\": 3, \"y\": -18, \"value\": \"Visible\"}, {\"x\": 3, \"y\": -21, \"value\": \"Visible\"}, {\"x\": 3, \"y\": -22, \"value\": \"Visible\"}, {\"x\": 3, \"y\": -24, \"value\": \"Visible\"}, {\"x\": 3, \"y\": -25, \"value\": \"Visible\"}, {\"x\": 4, \"y\": -2, \"value\": \"Visible\"}, {\"x\": 4, \"y\": -3, \"value\": \"Visible\"}, {\"x\": 4, \"y\": -4, \"value\": \"Non visible\"}, {\"x\": 4, \"y\": -7, \"value\": \"Non visible\"}, {\"x\": 4, \"y\": -8, \"value\": \"Visible\"}, {\"x\": 4, \"y\": -11, \"value\": \"Visible\"}, {\"x\": 4, \"y\": -16, \"value\": \"Non visible\"}, {\"x\": 4, \"y\": -20, \"value\": \"Visible\"}, {\"x\": 4, \"y\": -24, \"value\": \"Visible\"}, {\"x\": 4, \"y\": -25, \"value\": \"Non visible\"}, {\"x\": 4, \"y\": -27, \"value\": \"Visible\"}, {\"x\": 5, \"y\": 0, \"value\": \"Visible\"}, {\"x\": 5, \"y\": -3, \"value\": \"Visible\"}, {\"x\": 5, \"y\": -5, \"value\": \"Visible\"}, {\"x\": 5, \"y\": -6, \"value\": \"Visible\"}, {\"x\": 5, \"y\": -9, \"value\": \"Visible\"}, {\"x\": 5, \"y\": -10, \"value\": \"Visible\"}, {\"x\": 5, \"y\": -11, \"value\": \"Visible\"}, {\"x\": 5, \"y\": -14, \"value\": \"Visible\"}, {\"x\": 5, \"y\": -20, \"value\": \"Visible\"}, {\"x\": 5, \"y\": -22, \"value\": \"Visible\"}, {\"x\": 5, \"y\": -23, \"value\": \"Visible\"}, {\"x\": 5, \"y\": -24, \"value\": \"Visible\"}, {\"x\": 5, \"y\": -25, \"value\": \"Visible\"}, {\"x\": 5, \"y\": -27, \"value\": \"Visible\"}, {\"x\": 6, \"y\": -1, \"value\": \"Non visible\"}, {\"x\": 6, \"y\": -2, \"value\": \"Visible\"}, {\"x\": 6, \"y\": -5, \"value\": \"Visible\"}, {\"x\": 6, \"y\": -6, \"value\": \"Visible\"}, {\"x\": 6, \"y\": -8, \"value\": \"Visible\"}, {\"x\": 6, \"y\": -9, \"value\": \"Visible\"}, {\"x\": 6, \"y\": -11, \"value\": \"Non visible\"}, {\"x\": 6, \"y\": -12, \"value\": \"Visible\"}, {\"x\": 6, \"y\": -13, \"value\": \"Visible\"}, {\"x\": 6, \"y\": -14, \"value\": \"Visible\"}, {\"x\": 6, \"y\": -15, \"value\": \"Non visible\"}, {\"x\": 6, \"y\": -17, \"value\": \"Non visible\"}, {\"x\": 6, \"y\": -18, \"value\": \"Visible\"}, {\"x\": 6, \"y\": -21, \"value\": \"Non visible\"}, {\"x\": 6, \"y\": -25, \"value\": \"Visible\"}, {\"x\": 6, \"y\": -26, \"value\": \"Visible\"}, {\"x\": 6, \"y\": -27, \"value\": \"Non visible\"}, {\"x\": 7, \"y\": 0, \"value\": \"Visible\"}, {\"x\": 7, \"y\": -1, \"value\": \"Visible\"}, {\"x\": 7, \"y\": -4, \"value\": \"Non visible\"}, {\"x\": 7, \"y\": -5, \"value\": \"Visible\"}, {\"x\": 7, \"y\": -6, \"value\": \"Visible\"}, {\"x\": 7, \"y\": -8, \"value\": \"Visible\"}, {\"x\": 7, \"y\": -12, \"value\": \"Visible\"}, {\"x\": 7, \"y\": -13, \"value\": \"Non visible\"}, {\"x\": 7, \"y\": -14, \"value\": \"Non visible\"}, {\"x\": 7, \"y\": -15, \"value\": \"Visible\"}, {\"x\": 7, \"y\": -16, \"value\": \"Non visible\"}, {\"x\": 7, \"y\": -18, \"value\": \"Visible\"}, {\"x\": 7, \"y\": -20, \"value\": \"Visible\"}, {\"x\": 7, \"y\": -22, \"value\": \"Non visible\"}, {\"x\": 7, \"y\": -24, \"value\": \"Non visible\"}, {\"x\": 7, \"y\": -25, \"value\": \"Non visible\"}, {\"x\": 7, \"y\": -26, \"value\": \"Visible\"}, {\"x\": 7, \"y\": -27, \"value\": \"Visible\"}, {\"x\": 8, \"y\": 0, \"value\": \"Visible\"}, {\"x\": 8, \"y\": -1, \"value\": \"Non visible\"}, {\"x\": 8, \"y\": -2, \"value\": \"Visible\"}, {\"x\": 8, \"y\": -3, \"value\": \"Visible\"}, {\"x\": 8, \"y\": -4, \"value\": \"Visible\"}, {\"x\": 8, \"y\": -7, \"value\": \"Non visible\"}, {\"x\": 8, \"y\": -8, \"value\": \"Visible\"}, {\"x\": 8, \"y\": -11, \"value\": \"Visible\"}, {\"x\": 8, \"y\": -13, \"value\": \"Visible\"}, {\"x\": 8, \"y\": -17, \"value\": \"Non visible\"}, {\"x\": 8, \"y\": -18, \"value\": \"Visible\"}, {\"x\": 8, \"y\": -25, \"value\": \"Visible\"}, {\"x\": 8, \"y\": -26, \"value\": \"Non visible\"}, {\"x\": 9, \"y\": -2, \"value\": \"Visible\"}, {\"x\": 9, \"y\": -3, \"value\": \"Visible\"}, {\"x\": 9, \"y\": -4, \"value\": \"Visible\"}, {\"x\": 9, \"y\": -5, \"value\": \"Visible\"}, {\"x\": 9, \"y\": -8, \"value\": \"Visible\"}, {\"x\": 9, \"y\": -11, \"value\": \"Visible\"}, {\"x\": 9, \"y\": -13, \"value\": \"Visible\"}, {\"x\": 9, \"y\": -15, \"value\": \"Visible\"}, {\"x\": 9, \"y\": -16, \"value\": \"Visible\"}, {\"x\": 9, \"y\": -19, \"value\": \"Non visible\"}, {\"x\": 9, \"y\": -22, \"value\": \"Visible\"}, {\"x\": 9, \"y\": -26, \"value\": \"Visible\"}, {\"x\": 10, \"y\": 0, \"value\": \"Visible\"}, {\"x\": 10, \"y\": -4, \"value\": \"Non visible\"}, {\"x\": 10, \"y\": -8, \"value\": \"Visible\"}, {\"x\": 10, \"y\": -10, \"value\": \"Non visible\"}, {\"x\": 10, \"y\": -11, \"value\": \"Non visible\"}, {\"x\": 10, \"y\": -13, \"value\": \"Non visible\"}, {\"x\": 10, \"y\": -14, \"value\": \"Visible\"}, {\"x\": 10, \"y\": -22, \"value\": \"Visible\"}, {\"x\": 10, \"y\": -24, \"value\": \"Visible\"}, {\"x\": 11, \"y\": 0, \"value\": \"Visible\"}, {\"x\": 11, \"y\": -1, \"value\": \"Visible\"}, {\"x\": 11, \"y\": -5, \"value\": \"Visible\"}, {\"x\": 11, \"y\": -6, \"value\": \"Visible\"}, {\"x\": 11, \"y\": -7, \"value\": \"Visible\"}, {\"x\": 11, \"y\": -8, \"value\": \"Non visible\"}, {\"x\": 11, \"y\": -14, \"value\": \"Visible\"}, {\"x\": 11, \"y\": -15, \"value\": \"Visible\"}, {\"x\": 11, \"y\": -16, \"value\": \"Visible\"}, {\"x\": 11, \"y\": -18, \"value\": \"Visible\"}, {\"x\": 11, \"y\": -19, \"value\": \"Non visible\"}, {\"x\": 11, \"y\": -21, \"value\": \"Visible\"}, {\"x\": 11, \"y\": -27, \"value\": \"Visible\"}, {\"x\": 12, \"y\": 0, \"value\": \"Visible\"}, {\"x\": 12, \"y\": -2, \"value\": \"Visible\"}, {\"x\": 12, \"y\": -5, \"value\": \"Non visible\"}, {\"x\": 12, \"y\": -10, \"value\": \"Visible\"}, {\"x\": 12, \"y\": -13, \"value\": \"Non visible\"}, {\"x\": 12, \"y\": -18, \"value\": \"Visible\"}, {\"x\": 12, \"y\": -27, \"value\": \"Visible\"}, {\"x\": 13, \"y\": 0, \"value\": \"Visible\"}, {\"x\": 13, \"y\": -2, \"value\": \"Visible\"}, {\"x\": 13, \"y\": -3, \"value\": \"Visible\"}, {\"x\": 13, \"y\": -7, \"value\": \"Non visible\"}, {\"x\": 13, \"y\": -8, \"value\": \"Visible\"}, {\"x\": 13, \"y\": -9, \"value\": \"Visible\"}, {\"x\": 13, \"y\": -12, \"value\": \"Visible\"}, {\"x\": 13, \"y\": -14, \"value\": \"Visible\"}, {\"x\": 13, \"y\": -17, \"value\": \"Visible\"}, {\"x\": 13, \"y\": -22, \"value\": \"Visible\"}, {\"x\": 13, \"y\": -24, \"value\": \"Visible\"}, {\"x\": 14, \"y\": -2, \"value\": \"Visible\"}, {\"x\": 14, \"y\": -4, \"value\": \"Visible\"}, {\"x\": 14, \"y\": -5, \"value\": \"Visible\"}, {\"x\": 14, \"y\": -7, \"value\": \"Non visible\"}, {\"x\": 14, \"y\": -10, \"value\": \"Visible\"}, {\"x\": 14, \"y\": -11, \"value\": \"Non visible\"}, {\"x\": 14, \"y\": -17, \"value\": \"Visible\"}, {\"x\": 14, \"y\": -18, \"value\": \"Visible\"}, {\"x\": 14, \"y\": -19, \"value\": \"Non visible\"}, {\"x\": 14, \"y\": -20, \"value\": \"Visible\"}, {\"x\": 14, \"y\": -24, \"value\": \"Visible\"}, {\"x\": 14, \"y\": -26, \"value\": \"Visible\"}, {\"x\": 14, \"y\": -27, \"value\": \"Non visible\"}, {\"x\": 15, \"y\": 0, \"value\": \"Visible\"}, {\"x\": 15, \"y\": -3, \"value\": \"Visible\"}, {\"x\": 15, \"y\": -4, \"value\": \"Visible\"}, {\"x\": 15, \"y\": -5, \"value\": \"Non visible\"}, {\"x\": 15, \"y\": -10, \"value\": \"Visible\"}, {\"x\": 15, \"y\": -12, \"value\": \"Non visible\"}, {\"x\": 15, \"y\": -13, \"value\": \"Visible\"}, {\"x\": 15, \"y\": -14, \"value\": \"Visible\"}, {\"x\": 15, \"y\": -18, \"value\": \"Visible\"}, {\"x\": 15, \"y\": -19, \"value\": \"Non visible\"}, {\"x\": 15, \"y\": -21, \"value\": \"Visible\"}, {\"x\": 15, \"y\": -23, \"value\": \"Visible\"}, {\"x\": 15, \"y\": -25, \"value\": \"Visible\"}, {\"x\": 15, \"y\": -26, \"value\": \"Non visible\"}, {\"x\": 16, \"y\": 0, \"value\": \"Visible\"}, {\"x\": 16, \"y\": -2, \"value\": \"Visible\"}, {\"x\": 16, \"y\": -4, \"value\": \"Non visible\"}, {\"x\": 16, \"y\": -6, \"value\": \"Visible\"}, {\"x\": 16, \"y\": -8, \"value\": \"Visible\"}, {\"x\": 16, \"y\": -9, \"value\": \"Visible\"}, {\"x\": 16, \"y\": -11, \"value\": \"Non visible\"}, {\"x\": 16, \"y\": -12, \"value\": \"Visible\"}, {\"x\": 16, \"y\": -14, \"value\": \"Visible\"}, {\"x\": 16, \"y\": -15, \"value\": \"Visible\"}, {\"x\": 16, \"y\": -18, \"value\": \"Visible\"}, {\"x\": 16, \"y\": -20, \"value\": \"Visible\"}, {\"x\": 16, \"y\": -22, \"value\": \"Non visible\"}, {\"x\": 16, \"y\": -24, \"value\": \"Visible\"}, {\"x\": 16, \"y\": -25, \"value\": \"Non visible\"}, {\"x\": 16, \"y\": -26, \"value\": \"Visible\"}, {\"x\": 16, \"y\": -27, \"value\": \"Visible\"}, {\"x\": 17, \"y\": -2, \"value\": \"Visible\"}, {\"x\": 17, \"y\": -3, \"value\": \"Visible\"}, {\"x\": 17, \"y\": -4, \"value\": \"Non visible\"}, {\"x\": 17, \"y\": -6, \"value\": \"Visible\"}, {\"x\": 17, \"y\": -7, \"value\": \"Visible\"}, {\"x\": 17, \"y\": -10, \"value\": \"Visible\"}, {\"x\": 17, \"y\": -11, \"value\": \"Visible\"}, {\"x\": 17, \"y\": -12, \"value\": \"Visible\"}, {\"x\": 17, \"y\": -16, \"value\": \"Visible\"}, {\"x\": 17, \"y\": -17, \"value\": \"Visible\"}, {\"x\": 17, \"y\": -18, \"value\": \"Visible\"}, {\"x\": 17, \"y\": -20, \"value\": \"Visible\"}, {\"x\": 17, \"y\": -21, \"value\": \"Visible\"}, {\"x\": 17, \"y\": -24, \"value\": \"Non visible\"}, {\"x\": 18, \"y\": -3, \"value\": \"Non visible\"}, {\"x\": 18, \"y\": -5, \"value\": \"Non visible\"}, {\"x\": 18, \"y\": -6, \"value\": \"Visible\"}, {\"x\": 18, \"y\": -7, \"value\": \"Non visible\"}, {\"x\": 18, \"y\": -14, \"value\": \"Visible\"}, {\"x\": 18, \"y\": -16, \"value\": \"Visible\"}, {\"x\": 18, \"y\": -17, \"value\": \"Visible\"}, {\"x\": 18, \"y\": -19, \"value\": \"Visible\"}, {\"x\": 18, \"y\": -21, \"value\": \"Visible\"}, {\"x\": 18, \"y\": -22, \"value\": \"Visible\"}, {\"x\": 18, \"y\": -23, \"value\": \"Non visible\"}, {\"x\": 18, \"y\": -24, \"value\": \"Visible\"}, {\"x\": 18, \"y\": -26, \"value\": \"Visible\"}, {\"x\": 19, \"y\": 0, \"value\": \"Visible\"}, {\"x\": 19, \"y\": -1, \"value\": \"Non visible\"}, {\"x\": 19, \"y\": -3, \"value\": \"Visible\"}, {\"x\": 19, \"y\": -4, \"value\": \"Non visible\"}, {\"x\": 19, \"y\": -5, \"value\": \"Visible\"}, {\"x\": 19, \"y\": -7, \"value\": \"Visible\"}, {\"x\": 19, \"y\": -8, \"value\": \"Visible\"}, {\"x\": 19, \"y\": -9, \"value\": \"Visible\"}, {\"x\": 19, \"y\": -12, \"value\": \"Visible\"}, {\"x\": 19, \"y\": -13, \"value\": \"Non visible\"}, {\"x\": 19, \"y\": -15, \"value\": \"Visible\"}, {\"x\": 19, \"y\": -18, \"value\": \"Visible\"}, {\"x\": 19, \"y\": -24, \"value\": \"Visible\"}, {\"x\": 19, \"y\": -25, \"value\": \"Non visible\"}, {\"x\": 20, \"y\": 0, \"value\": \"Visible\"}, {\"x\": 20, \"y\": -1, \"value\": \"Visible\"}, {\"x\": 20, \"y\": -2, \"value\": \"Visible\"}, {\"x\": 20, \"y\": -4, \"value\": \"Visible\"}, {\"x\": 20, \"y\": -5, \"value\": \"Visible\"}, {\"x\": 20, \"y\": -7, \"value\": \"Visible\"}, {\"x\": 20, \"y\": -8, \"value\": \"Visible\"}, {\"x\": 20, \"y\": -9, \"value\": \"Non visible\"}, {\"x\": 20, \"y\": -10, \"value\": \"Visible\"}, {\"x\": 20, \"y\": -12, \"value\": \"Visible\"}, {\"x\": 20, \"y\": -14, \"value\": \"Visible\"}, {\"x\": 20, \"y\": -15, \"value\": \"Visible\"}, {\"x\": 20, \"y\": -16, \"value\": \"Visible\"}, {\"x\": 20, \"y\": -17, \"value\": \"Visible\"}, {\"x\": 20, \"y\": -22, \"value\": \"Visible\"}, {\"x\": 20, \"y\": -26, \"value\": \"Visible\"}, {\"x\": 20, \"y\": -27, \"value\": \"Visible\"}, {\"x\": 21, \"y\": 0, \"value\": \"Visible\"}, {\"x\": 21, \"y\": -1, \"value\": \"Visible\"}, {\"x\": 21, \"y\": -3, \"value\": \"Visible\"}, {\"x\": 21, \"y\": -4, \"value\": \"Visible\"}, {\"x\": 21, \"y\": -8, \"value\": \"Visible\"}, {\"x\": 21, \"y\": -9, \"value\": \"Visible\"}, {\"x\": 21, \"y\": -14, \"value\": \"Visible\"}, {\"x\": 21, \"y\": -16, \"value\": \"Visible\"}, {\"x\": 21, \"y\": -20, \"value\": \"Visible\"}, {\"x\": 21, \"y\": -21, \"value\": \"Visible\"}, {\"x\": 21, \"y\": -24, \"value\": \"Visible\"}, {\"x\": 21, \"y\": -25, \"value\": \"Visible\"}, {\"x\": 22, \"y\": -1, \"value\": \"Non visible\"}, {\"x\": 22, \"y\": -2, \"value\": \"Non visible\"}, {\"x\": 22, \"y\": -3, \"value\": \"Non visible\"}, {\"x\": 22, \"y\": -8, \"value\": \"Non visible\"}, {\"x\": 22, \"y\": -9, \"value\": \"Non visible\"}, {\"x\": 22, \"y\": -12, \"value\": \"Non visible\"}, {\"x\": 22, \"y\": -15, \"value\": \"Non visible\"}, {\"x\": 22, \"y\": -16, \"value\": \"Visible\"}, {\"x\": 22, \"y\": -19, \"value\": \"Optimal\"}, {\"x\": 22, \"y\": -26, \"value\": \"Visible\"}, {\"x\": 23, \"y\": 0, \"value\": \"Visible\"}, {\"x\": 23, \"y\": -2, \"value\": \"Visible\"}, {\"x\": 23, \"y\": -4, \"value\": \"Visible\"}, {\"x\": 23, \"y\": -5, \"value\": \"Visible\"}, {\"x\": 23, \"y\": -13, \"value\": \"Visible\"}, {\"x\": 23, \"y\": -17, \"value\": \"Visible\"}, {\"x\": 23, \"y\": -18, \"value\": \"Visible\"}, {\"x\": 23, \"y\": -23, \"value\": \"Visible\"}, {\"x\": 23, \"y\": -24, \"value\": \"Visible\"}, {\"x\": 23, \"y\": -25, \"value\": \"Visible\"}, {\"x\": 23, \"y\": -27, \"value\": \"Visible\"}, {\"x\": 24, \"y\": -2, \"value\": \"Visible\"}, {\"x\": 24, \"y\": -3, \"value\": \"Visible\"}, {\"x\": 24, \"y\": -4, \"value\": \"Visible\"}, {\"x\": 24, \"y\": -6, \"value\": \"Visible\"}, {\"x\": 24, \"y\": -9, \"value\": \"Visible\"}, {\"x\": 24, \"y\": -10, \"value\": \"Visible\"}, {\"x\": 24, \"y\": -12, \"value\": \"Visible\"}, {\"x\": 24, \"y\": -15, \"value\": \"Non visible\"}, {\"x\": 24, \"y\": -19, \"value\": \"Visible\"}, {\"x\": 24, \"y\": -20, \"value\": \"Visible\"}, {\"x\": 24, \"y\": -21, \"value\": \"Visible\"}, {\"x\": 24, \"y\": -22, \"value\": \"Visible\"}, {\"x\": 24, \"y\": -24, \"value\": \"Visible\"}, {\"x\": 24, \"y\": -25, \"value\": \"Visible\"}, {\"x\": 24, \"y\": -26, \"value\": \"Visible\"}, {\"x\": 25, \"y\": 0, \"value\": \"Visible\"}, {\"x\": 25, \"y\": -3, \"value\": \"Visible\"}, {\"x\": 25, \"y\": -6, \"value\": \"Visible\"}, {\"x\": 25, \"y\": -9, \"value\": \"Visible\"}, {\"x\": 25, \"y\": -10, \"value\": \"Visible\"}, {\"x\": 25, \"y\": -13, \"value\": \"Non visible\"}, {\"x\": 25, \"y\": -15, \"value\": \"Visible\"}, {\"x\": 25, \"y\": -17, \"value\": \"Visible\"}, {\"x\": 25, \"y\": -22, \"value\": \"Non visible\"}, {\"x\": 25, \"y\": -23, \"value\": \"Visible\"}, {\"x\": 25, \"y\": -26, \"value\": \"Visible\"}, {\"x\": 25, \"y\": -27, \"value\": \"Visible\"}, {\"x\": 26, \"y\": -2, \"value\": \"Visible\"}, {\"x\": 26, \"y\": -3, \"value\": \"Visible\"}, {\"x\": 26, \"y\": -5, \"value\": \"Non visible\"}, {\"x\": 26, \"y\": -7, \"value\": \"Non visible\"}, {\"x\": 26, \"y\": -11, \"value\": \"Non visible\"}, {\"x\": 26, \"y\": -13, \"value\": \"Visible\"}, {\"x\": 26, \"y\": -15, \"value\": \"Non visible\"}, {\"x\": 26, \"y\": -16, \"value\": \"Visible\"}, {\"x\": 26, \"y\": -18, \"value\": \"Visible\"}, {\"x\": 26, \"y\": -20, \"value\": \"Visible\"}, {\"x\": 26, \"y\": -24, \"value\": \"Visible\"}, {\"x\": 26, \"y\": -25, \"value\": \"Non visible\"}, {\"x\": 26, \"y\": -26, \"value\": \"Visible\"}, {\"x\": 26, \"y\": -27, \"value\": \"Visible\"}, {\"x\": 27, \"y\": -3, \"value\": \"Visible\"}, {\"x\": 27, \"y\": -6, \"value\": \"Visible\"}, {\"x\": 27, \"y\": -8, \"value\": \"Visible\"}, {\"x\": 27, \"y\": -10, \"value\": \"Visible\"}, {\"x\": 27, \"y\": -11, \"value\": \"Visible\"}, {\"x\": 27, \"y\": -12, \"value\": \"Visible\"}, {\"x\": 27, \"y\": -13, \"value\": \"Visible\"}, {\"x\": 27, \"y\": -15, \"value\": \"Visible\"}, {\"x\": 27, \"y\": -16, \"value\": \"Visible\"}, {\"x\": 27, \"y\": -18, \"value\": \"Visible\"}, {\"x\": 27, \"y\": -19, \"value\": \"Non visible\"}, {\"x\": 27, \"y\": -20, \"value\": \"Visible\"}, {\"x\": 27, \"y\": -21, \"value\": \"Visible\"}, {\"x\": 27, \"y\": -23, \"value\": \"Visible\"}, {\"x\": 27, \"y\": -24, \"value\": \"Non visible\"}, {\"x\": 27, \"y\": -26, \"value\": \"Visible\"}]}};\n",
       "const opt = {};\n",
       "const type = \"vega-lite\";\n",
       "const id = \"ecdb0b37-2ab1-4973-841f-3f0f484f21d7\";\n",
       "\n",
       "const output_area = this;\n",
       "\n",
       "require([\"nbextensions/jupyter-vega/index\"], function(vega) {\n",
       "  const target = document.createElement(\"div\");\n",
       "  target.id = id;\n",
       "  target.className = \"vega-embed\";\n",
       "\n",
       "  const style = document.createElement(\"style\");\n",
       "  style.textContent = [\n",
       "    \".vega-embed .error p {\",\n",
       "    \"  color: firebrick;\",\n",
       "    \"  font-size: 14px;\",\n",
       "    \"}\",\n",
       "  ].join(\"\\\\n\");\n",
       "\n",
       "  // element is a jQuery wrapped DOM element inside the output area\n",
       "  // see http://ipython.readthedocs.io/en/stable/api/generated/\\\n",
       "  // IPython.display.html#IPython.display.Javascript.__init__\n",
       "  element[0].appendChild(target);\n",
       "  element[0].appendChild(style);\n",
       "\n",
       "  vega.render(\"#\" + id, spec, type, opt, output_area);\n",
       "}, function (err) {\n",
       "  if (err.requireType !== \"scripterror\") {\n",
       "    throw(err);\n",
       "  }\n",
       "});\n"
      ],
      "text/plain": [
       "<vega.vegalite.VegaLite at 0x7f9fbb1ee3c8>"
      ]
     },
     "metadata": {
      "jupyter-vega": "#ecdb0b37-2ab1-4973-841f-3f0f484f21d7"
     },
     "output_type": "display_data"
    },
    {
     "data": {
      "text/plain": []
     },
     "metadata": {},
     "output_type": "display_data"
    },
    {
     "name": "stdout",
     "output_type": "stream",
     "text": [
      "282 detected asteroids from optimal position (22, 19)\n"
     ]
    },
    {
     "data": {
      "image/png": "[encoded data removed]"
     },
     "metadata": {
      "jupyter-vega": "#ecdb0b37-2ab1-4973-841f-3f0f484f21d7"
     },
     "output_type": "display_data"
    }
   ],
   "source": [
    "# Test maps\n",
    "# map_file = 'map_test1.txt' # Solution: 8, (3,4)\n",
    "# map_file = 'map_test2.txt' # Solution: 33, (5,8)\n",
    "# map_file = 'map_test3.txt' # Solution: 35, (1,2)\n",
    "# map_file = 'map_test4.txt' # Solution: 41, (6,3)\n",
    "# map_file = 'map_test5.txt' # Solution: 210, (11,13)\n",
    "\n",
    "# Challenge input\n",
    "map_file = 'map.txt'\n",
    "\n",
    "asteroids = day10.read_asteroid_map(map_path=map_file, root_path = 'data/raw/day10')\n",
    "detected = day10.count_optimal_detected(asteroids)\n",
    "print('{n} detected asteroids from optimal position {p}'.format(n=detected[1], p=detected[0]))"
   ]
  },
  {
   "cell_type": "markdown",
   "metadata": {},
   "source": [
    "### Part 2"
   ]
  },
  {
   "cell_type": "code",
   "execution_count": 5,
   "metadata": {},
   "outputs": [
    {
     "name": "stdout",
     "output_type": "stream",
     "text": [
      "200th asteroid to be vaporized: (10, 8)\n"
     ]
    }
   ],
   "source": [
    "# Test maps\n",
    "# map_file = 'map_test6.txt'; station = (8,3); n = None\n",
    "# map_file = 'map_test5.txt'; station = (11,13); n = 200\n",
    "\n",
    "# Challenge input\n",
    "map_file = 'map.txt'; station = (22, 19); n = 200\n",
    "\n",
    "asteroids = day10.read_asteroid_map(map_path=map_file, root_path = 'data/raw/day10')\n",
    "vaporized = day10.vaporize_asteroids(asteroids, location=station, n_asteroids=n)\n",
    "print('{n}th asteroid to be vaporized: {p}'.format(n=n, p=vaporized[-1]))"
   ]
  },
  {
   "cell_type": "code",
   "execution_count": 87,
   "metadata": {},
   "outputs": [
    {
     "name": "stdout",
     "output_type": "stream",
     "text": [
      "Multiply X coordinate by 100 and then add Y coordinate: 1008\n"
     ]
    }
   ],
   "source": [
    "vap200 = vaporized[-1]\n",
    "print('Multiply X coordinate by 100 and then add Y coordinate: {}'.format(100*vap200[0]+vap200[1]))"
   ]
  },
  {
   "cell_type": "markdown",
   "metadata": {},
   "source": [
    "Animation of vaporized asteroids:"
   ]
  },
  {
   "cell_type": "code",
   "execution_count": 6,
   "metadata": {
    "scrolled": false
   },
   "outputs": [
    {
     "data": {
      "application/vnd.jupyter.widget-view+json": {
       "model_id": "ab02cd79dd5a43e48419b53813f2c983",
       "version_major": 2,
       "version_minor": 0
      },
      "text/plain": [
       "interactive(children=(Play(value=0, description='i', max=199), Output()), _dom_classes=('widget-interact',))"
      ]
     },
     "metadata": {},
     "output_type": "display_data"
    },
    {
     "data": {
      "text/plain": [
       "<function src.day10.animated_vaporization.<locals>.demo(i)>"
      ]
     },
     "execution_count": 6,
     "metadata": {},
     "output_type": "execute_result"
    }
   ],
   "source": [
    "day10.animated_vaporization(asteroids, station, vaporized)"
   ]
  },
  {
   "cell_type": "markdown",
   "metadata": {},
   "source": [
    "# Day 11\n",
    "## Part 1\n",
    "Get painting robot positions."
   ]
  },
  {
   "cell_type": "code",
   "execution_count": 7,
   "metadata": {},
   "outputs": [],
   "source": [
    "f = open('data/raw/day11/program.txt', 'r')\n",
    "program = f.read()\n",
    "program = list(map(int, program.split(',')))"
   ]
  },
  {
   "cell_type": "code",
   "execution_count": 20,
   "metadata": {},
   "outputs": [
    {
     "name": "stdout",
     "output_type": "stream",
     "text": [
      "Panels painted at least once: 2511\n"
     ]
    }
   ],
   "source": [
    "paintings = day11.get_painted_positions(program)\n",
    "print('Panels painted at least once: {}'.format(len(paintings.keys())))"
   ]
  }
 ],
 "metadata": {
  "kernelspec": {
   "display_name": "Python 3",
   "language": "python",
   "name": "python3"
  },
  "language_info": {
   "codemirror_mode": {
    "name": "ipython",
    "version": 3
   },
   "file_extension": ".py",
   "mimetype": "text/x-python",
   "name": "python",
   "nbconvert_exporter": "python",
   "pygments_lexer": "ipython3",
   "version": "3.7.3"
  }
 },
 "nbformat": 4,
 "nbformat_minor": 2
}
