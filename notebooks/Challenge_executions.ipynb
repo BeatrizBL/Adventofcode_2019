{
 "cells": [
  {
   "cell_type": "code",
   "execution_count": 1,
   "metadata": {},
   "outputs": [],
   "source": [
    "%load_ext autoreload\n",
    "%autoreload 2"
   ]
  },
  {
   "cell_type": "code",
   "execution_count": 2,
   "metadata": {},
   "outputs": [],
   "source": [
    "import os\n",
    "os.chdir('..')"
   ]
  },
  {
   "cell_type": "code",
   "execution_count": 3,
   "metadata": {},
   "outputs": [],
   "source": [
    "from src import day1, day2, day4, computer, day6, day7"
   ]
  },
  {
   "cell_type": "markdown",
   "metadata": {},
   "source": [
    "# Day 1\n",
    "## Part 1"
   ]
  },
  {
   "cell_type": "code",
   "execution_count": 8,
   "metadata": {},
   "outputs": [
    {
     "name": "stdout",
     "output_type": "stream",
     "text": [
      "Sum of the fuel requirements: 3337766\n"
     ]
    }
   ],
   "source": [
    "fuel = day1.compute_fuel_requirements('mass.csv')\n",
    "print('Sum of the fuel requirements: {}'.format(fuel))"
   ]
  },
  {
   "cell_type": "markdown",
   "metadata": {},
   "source": [
    "## Part 2"
   ]
  },
  {
   "cell_type": "code",
   "execution_count": 9,
   "metadata": {},
   "outputs": [
    {
     "name": "stdout",
     "output_type": "stream",
     "text": [
      "Sum of the fuel requirements, taking fuel mass into account: 5003788\n"
     ]
    }
   ],
   "source": [
    "fuel = day1.compute_all_fuel_requirements('mass.csv')\n",
    "print('Sum of the fuel requirements, taking fuel mass into account: {}'.format(fuel))"
   ]
  },
  {
   "cell_type": "markdown",
   "metadata": {},
   "source": [
    "# Day 2\n",
    "## Part 1"
   ]
  },
  {
   "cell_type": "code",
   "execution_count": 10,
   "metadata": {},
   "outputs": [],
   "source": [
    "program = [1,0,0,3,1,1,2,3,1,3,4,3,1,5,0,3,2,1,6,19,1,9,19,23,2,23,10,27,1,27,5,31,1,31,6,35,1,6,35,39,2,39,13,43,1,9,43,47,2,9,47,51,1,51,6,55,2,55,10,59,1,59,5,63,2,10,63,67,2,9,67,71,1,71,5,75,2,10,75,79,1,79,6,83,2,10,83,87,1,5,87,91,2,9,91,95,1,95,5,99,1,99,2,103,1,103,13,0,99,2,14,0,0]"
   ]
  },
  {
   "cell_type": "markdown",
   "metadata": {},
   "source": [
    "Restore the gravity assist program to the \"1202 program alarm\" state: replace position 1 with the value 12 and replace position 2 with the value 2."
   ]
  },
  {
   "cell_type": "code",
   "execution_count": 11,
   "metadata": {},
   "outputs": [],
   "source": [
    "program[1] = 12\n",
    "program[2] = 2"
   ]
  },
  {
   "cell_type": "code",
   "execution_count": 13,
   "metadata": {},
   "outputs": [],
   "source": [
    "result = day2.intcode_computer(program)"
   ]
  },
  {
   "cell_type": "code",
   "execution_count": 17,
   "metadata": {},
   "outputs": [
    {
     "name": "stdout",
     "output_type": "stream",
     "text": [
      "Value left at position 0: 3931283\n"
     ]
    }
   ],
   "source": [
    "print('Value left at position 0: {}'.format(result[0]))"
   ]
  },
  {
   "cell_type": "markdown",
   "metadata": {},
   "source": [
    "## Part 2"
   ]
  },
  {
   "cell_type": "code",
   "execution_count": 18,
   "metadata": {},
   "outputs": [],
   "source": [
    "program = [1,0,0,3,1,1,2,3,1,3,4,3,1,5,0,3,2,1,6,19,1,9,19,23,2,23,10,27,1,27,5,31,1,31,6,35,1,6,35,39,2,39,13,43,1,9,43,47,2,9,47,51,1,51,6,55,2,55,10,59,1,59,5,63,2,10,63,67,2,9,67,71,1,71,5,75,2,10,75,79,1,79,6,83,2,10,83,87,1,5,87,91,2,9,91,95,1,95,5,99,1,99,2,103,1,103,13,0,99,2,14,0,0]"
   ]
  },
  {
   "cell_type": "code",
   "execution_count": 19,
   "metadata": {},
   "outputs": [
    {
     "name": "stdout",
     "output_type": "stream",
     "text": [
      "Code error: 6979\n"
     ]
    }
   ],
   "source": [
    "output = 19690720\n",
    "code = day2.get_error_code(output=output, program=program)\n",
    "print('Code error: {}'.format(code))"
   ]
  },
  {
   "cell_type": "markdown",
   "metadata": {},
   "source": [
    "# Day 3\n",
    "This day can be run using \"streamlit run app_day3\", which will launch a streamlit application to get the solution."
   ]
  },
  {
   "cell_type": "markdown",
   "metadata": {},
   "source": [
    "# Day 4\n",
    "## Part 1\n",
    "Although it seems that there should be an explicit formula to solve this problem, it can be obtained by brute force, since the interval of the numbers is not very big."
   ]
  },
  {
   "cell_type": "code",
   "execution_count": 5,
   "metadata": {},
   "outputs": [
    {
     "name": "stdout",
     "output_type": "stream",
     "text": [
      "Number of possible passwords: 1033\n"
     ]
    }
   ],
   "source": [
    "n = day4.count_passwords((254032,789860))\n",
    "print('Number of possible passwords: {}'.format(n))"
   ]
  },
  {
   "cell_type": "markdown",
   "metadata": {},
   "source": [
    "The idea to get the formula would be: _Starting with 52 and ending in 100. For the second digit there are 5 possibilities (from 5 to 9). And if the second digit is fixed, for the last digit there is only one possible value (5 now). So we will have 5 valid values (55, 66, 77, 88, 99)._\n",
    "\n",
    "It might be possible to extend this reasoning to a general case, but it is not obvious how to know that the possible values are still under the upper threshold in an automatic way."
   ]
  },
  {
   "cell_type": "markdown",
   "metadata": {},
   "source": [
    "## Part 2"
   ]
  },
  {
   "cell_type": "code",
   "execution_count": 6,
   "metadata": {},
   "outputs": [
    {
     "name": "stdout",
     "output_type": "stream",
     "text": [
      "Number of possible passwords: 670\n"
     ]
    }
   ],
   "source": [
    "n = day4.count_passwords_part2((254032,789860))\n",
    "print('Number of possible passwords: {}'.format(n))"
   ]
  },
  {
   "cell_type": "markdown",
   "metadata": {},
   "source": [
    "# Day 5\n",
    "## Part 1\n",
    "The computer code has been modified to adapt it to day 7 part 2. The computer run the program in a dedicated thread, which waits for an input to be set. After the execution is finished, the output can be retrieved. \n",
    "\n",
    "In order to store the inputs and outputs two synchronized queues are used (which make it possible to connect several computers). These queues can be passed as argument when the computer is created. "
   ]
  },
  {
   "cell_type": "code",
   "execution_count": 23,
   "metadata": {},
   "outputs": [],
   "source": [
    "f = open('data/raw/day5/program.txt', 'r')\n",
    "program = f.read()\n",
    "program = list(map(int, program.split(',')))"
   ]
  },
  {
   "cell_type": "markdown",
   "metadata": {},
   "source": [
    "Launch the program execution, which keeps waiting until an input is send."
   ]
  },
  {
   "cell_type": "code",
   "execution_count": 24,
   "metadata": {},
   "outputs": [],
   "source": [
    "pc = computer.intcode_computer(program)\n",
    "pc.run_program()"
   ]
  },
  {
   "cell_type": "markdown",
   "metadata": {},
   "source": [
    "Add a new input."
   ]
  },
  {
   "cell_type": "code",
   "execution_count": 25,
   "metadata": {},
   "outputs": [],
   "source": [
    "pc.set_input(1)"
   ]
  },
  {
   "cell_type": "markdown",
   "metadata": {},
   "source": [
    "Get the output."
   ]
  },
  {
   "cell_type": "code",
   "execution_count": 26,
   "metadata": {},
   "outputs": [
    {
     "data": {
      "text/plain": [
       "[0, 0, 0, 0, 0, 0, 0, 0, 0, 5044655]"
      ]
     },
     "execution_count": 26,
     "metadata": {},
     "output_type": "execute_result"
    }
   ],
   "source": [
    "pc.get_output()"
   ]
  },
  {
   "cell_type": "markdown",
   "metadata": {},
   "source": [
    "## Part 2"
   ]
  },
  {
   "cell_type": "code",
   "execution_count": 27,
   "metadata": {},
   "outputs": [
    {
     "data": {
      "text/plain": [
       "[999]"
      ]
     },
     "execution_count": 27,
     "metadata": {},
     "output_type": "execute_result"
    }
   ],
   "source": [
    "test = [3,21,1008,21,8,20,1005,20,22,107,8,21,20,1006,20,31,1106,0,36,98,0,0,1002,21,125,20,4,20,1105,1,46,104,999,1105,1,46,1101,1000,1,20,4,20,1105,1,46,98,99]\n",
    "pc = computer.intcode_computer(test)\n",
    "pc.set_input(2)\n",
    "pc.run_program()\n",
    "pc.get_output()"
   ]
  },
  {
   "cell_type": "code",
   "execution_count": 28,
   "metadata": {},
   "outputs": [
    {
     "name": "stdout",
     "output_type": "stream",
     "text": [
      "Diagnostic code for system ID 5:\n"
     ]
    },
    {
     "data": {
      "text/plain": [
       "[7408802]"
      ]
     },
     "execution_count": 28,
     "metadata": {},
     "output_type": "execute_result"
    }
   ],
   "source": [
    "print('Diagnostic code for system ID 5:')\n",
    "pc = computer.intcode_computer(program)\n",
    "pc.set_input(5)\n",
    "pc.run_program()\n",
    "pc.get_output()"
   ]
  },
  {
   "cell_type": "markdown",
   "metadata": {},
   "source": [
    "# Day 6\n",
    "## Part 1\n",
    "This implementation is quite inefficient, since it uses Depth First Search on the tree, starting always with \"COM\". Then, the same path is computed a lot of different times for big graphs. It could be optimized moving also the starting point.\n",
    "\n",
    "Test tree:"
   ]
  },
  {
   "cell_type": "code",
   "execution_count": 6,
   "metadata": {},
   "outputs": [
    {
     "name": "stdout",
     "output_type": "stream",
     "text": [
      "Number of orbits: 42\n"
     ]
    }
   ],
   "source": [
    "test_programs = ['COM)B', 'B)C', 'C)D', 'D)E', 'E)F', 'B)G', 'G)H', 'D)I', 'E)J', 'J)K', 'K)L']\n",
    "g = day6.create_graph(orbits=test_orbits)\n",
    "print('Number of orbits: {}'.format(day6.count_orbits(g)))"
   ]
  },
  {
   "cell_type": "markdown",
   "metadata": {},
   "source": [
    "Challenge input:"
   ]
  },
  {
   "cell_type": "code",
   "execution_count": 10,
   "metadata": {},
   "outputs": [
    {
     "name": "stdout",
     "output_type": "stream",
     "text": [
      "Number of orbits: 234446\n"
     ]
    }
   ],
   "source": [
    "g = day6.create_graph(orbits_path='orbits.txt',\n",
    "                      root_path='data/raw/day6')\n",
    "print('Number of orbits: {}'.format(day6.count_orbits(g)))"
   ]
  },
  {
   "cell_type": "markdown",
   "metadata": {},
   "source": [
    "## Part 2\n",
    "Now we have to create an undirected graph to represent the orbits, in order to be able to go back in the orbital path.\n",
    "\n",
    "Test graph:"
   ]
  },
  {
   "cell_type": "code",
   "execution_count": 12,
   "metadata": {},
   "outputs": [
    {
     "name": "stdout",
     "output_type": "stream",
     "text": [
      "Number of transfers: 4\n"
     ]
    }
   ],
   "source": [
    "test_orbits = ['COM)B', 'B)C', 'C)D', 'D)E', 'E)F', 'B)G', 'G)H', 'D)I', 'E)J', 'J)K', 'K)L', 'K)YOU', 'I)SAN']\n",
    "g = day6.create_graph(orbits=test_orbits, directed=False)\n",
    "print('Number of transfers: {}'.format(day6.count_transfers(g)))"
   ]
  },
  {
   "cell_type": "markdown",
   "metadata": {},
   "source": [
    "Using test input:"
   ]
  },
  {
   "cell_type": "code",
   "execution_count": 19,
   "metadata": {},
   "outputs": [
    {
     "name": "stdout",
     "output_type": "stream",
     "text": [
      "Number of transfers: 385\n"
     ]
    }
   ],
   "source": [
    "g = day6.create_graph(orbits_path='orbits.txt',\n",
    "                      root_path='data/raw/day6',\n",
    "                      directed=False\n",
    "                     )\n",
    "print('Number of transfers: {}'.format(day6.count_transfers(g)))"
   ]
  },
  {
   "cell_type": "markdown",
   "metadata": {},
   "source": [
    "# Day 7\n",
    "## Part 1\n",
    "Test programs:"
   ]
  },
  {
   "cell_type": "code",
   "execution_count": 51,
   "metadata": {},
   "outputs": [
    {
     "name": "stdout",
     "output_type": "stream",
     "text": [
      "Testing 120 phase settings\n",
      "Max thruster signal 43210 (from phase setting sequence (4, 3, 2, 1, 0))\n"
     ]
    }
   ],
   "source": [
    "test_program = '3,15,3,16,1002,16,10,16,1,16,15,15,4,15,99,0,0' #Solution: 43210 - 4,3,2,1,0\n",
    "# test_program = '3,23,3,24,1002,24,10,24,1002,23,-1,23,101,5,23,23,1,24,23,23,4,23,99,0,0' #Solution: 54321 - 0,1,2,3,4\n",
    "# test_program = '3,31,3,32,1002,32,10,32,1001,31,-2,31,1007,31,0,33,1002,33,7,33,1,33,31,31,1,32,31,31,4,31,99,0,0,0' #Solution: 65210 - 1,0,4,3,2\n",
    "\n",
    "max_phase = day7.highest_amplification_signal(program=test_program,\n",
    "                                              sequence_signals=[0,1,2,3,4])\n",
    "print('Max thruster signal {m} (from phase setting sequence {p})'.format(m=max_phase[1],\n",
    "                                                                         p=max_phase[0]))"
   ]
  },
  {
   "cell_type": "markdown",
   "metadata": {},
   "source": [
    "Challenge input:"
   ]
  },
  {
   "cell_type": "code",
   "execution_count": 48,
   "metadata": {},
   "outputs": [
    {
     "name": "stdout",
     "output_type": "stream",
     "text": [
      "Testing 120 phase settings\n",
      "Max thruster signal 368584 (from phase setting sequence (2, 4, 0, 1, 3))\n"
     ]
    }
   ],
   "source": [
    "max_phase = day7.highest_amplification_signal(program_path='program.txt',\n",
    "                                              root_path='data/raw/day7',\n",
    "                                              sequence_signals=[0,1,2,3,4])\n",
    "print('Max thruster signal {m} (from phase setting sequence {p})'.format(m=max_phase[1],\n",
    "                                                                         p=max_phase[0]))"
   ]
  },
  {
   "cell_type": "markdown",
   "metadata": {},
   "source": [
    "## Part 2\n",
    "Test programs:"
   ]
  },
  {
   "cell_type": "code",
   "execution_count": 54,
   "metadata": {},
   "outputs": [
    {
     "name": "stdout",
     "output_type": "stream",
     "text": [
      "Testing 120 phase settings\n",
      "Max thruster signal 18216 (from phase setting sequence (9, 7, 8, 5, 6))\n"
     ]
    }
   ],
   "source": [
    "# test_program = '3,26,1001,26,-4,26,3,27,1002,27,2,27,1,27,26,27,4,27,1001,28,-1,28,1005,28,6,99,0,0,5' #Solution: 139629729 - 9,8,7,6,5\n",
    "test_program = '3,52,1001,52,-5,52,3,53,1,52,56,54,1007,54,5,55,1005,55,26,1001,54,-5,54,1105,1,12,1,53,54,53,1008,54,0,55,1001,55,1,55,2,53,55,53,4,53,1001,56,-1,56,1005,56,6,99,0,0,0,0,10' #Solution: 18216 - 9,7,8,5,6\n",
    "\n",
    "max_phase = day7.highest_amplification_signal(program=test_program,\n",
    "                                              sequence_signals=[5,6,7,8,9],\n",
    "                                              feedback_loop=True\n",
    "                                             )\n",
    "print('Max thruster signal {m} (from phase setting sequence {p})'.format(m=max_phase[1],\n",
    "                                                                         p=max_phase[0]))"
   ]
  },
  {
   "cell_type": "markdown",
   "metadata": {},
   "source": [
    "Challenge input:"
   ]
  },
  {
   "cell_type": "code",
   "execution_count": 55,
   "metadata": {},
   "outputs": [
    {
     "name": "stdout",
     "output_type": "stream",
     "text": [
      "Testing 120 phase settings\n",
      "Max thruster signal 35993240 (from phase setting sequence (5, 7, 8, 9, 6))\n"
     ]
    }
   ],
   "source": [
    "max_phase = day7.highest_amplification_signal(program_path='program.txt',\n",
    "                                              root_path='data/raw/day7',\n",
    "                                              sequence_signals=[5,6,7,8,9],\n",
    "                                              feedback_loop=True\n",
    "                                             )\n",
    "print('Max thruster signal {m} (from phase setting sequence {p})'.format(m=max_phase[1],\n",
    "                                                                         p=max_phase[0]))"
   ]
  },
  {
   "cell_type": "markdown",
   "metadata": {},
   "source": [
    "# Day 9\n",
    "## Part 1\n",
    "Test programs:"
   ]
  },
  {
   "cell_type": "code",
   "execution_count": 20,
   "metadata": {},
   "outputs": [
    {
     "data": {
      "text/plain": [
       "[109, 1, 204, -1, 1001, 100, 1, 100, 1008, 100, 16, 101, 1006, 101, 0, 99]"
      ]
     },
     "execution_count": 20,
     "metadata": {},
     "output_type": "execute_result"
    }
   ],
   "source": [
    "test_program = [109,1,204,-1,1001,100,1,100,1008,100,16,101,1006,101,0,99] #Solution: Itself\n",
    "# test_program = [1102,34915192,34915192,7,4,7,99] #Solution: 16 digits int\n",
    "# test_program = [104,1125899906842624,99] #Solution: Integer in the middle\n",
    "\n",
    "pc = computer.intcode_computer(test_program)\n",
    "pc.run_program()\n",
    "pc.program_finished.wait()\n",
    "pc.get_output()"
   ]
  },
  {
   "cell_type": "markdown",
   "metadata": {},
   "source": [
    "Challenge input:"
   ]
  },
  {
   "cell_type": "code",
   "execution_count": 16,
   "metadata": {},
   "outputs": [],
   "source": [
    "f = open('data/raw/day9/program.txt', 'r')\n",
    "program = f.read()\n",
    "program = list(map(int, program.split(',')))"
   ]
  },
  {
   "cell_type": "code",
   "execution_count": 19,
   "metadata": {},
   "outputs": [
    {
     "data": {
      "text/plain": [
       "[2745604242]"
      ]
     },
     "execution_count": 19,
     "metadata": {},
     "output_type": "execute_result"
    }
   ],
   "source": [
    "pc = computer.intcode_computer(program)\n",
    "pc.set_input(1)\n",
    "pc.run_program()\n",
    "pc.program_finished.wait()\n",
    "pc.get_output()"
   ]
  }
 ],
 "metadata": {
  "kernelspec": {
   "display_name": "Python 3",
   "language": "python",
   "name": "python3"
  },
  "language_info": {
   "codemirror_mode": {
    "name": "ipython",
    "version": 3
   },
   "file_extension": ".py",
   "mimetype": "text/x-python",
   "name": "python",
   "nbconvert_exporter": "python",
   "pygments_lexer": "ipython3",
   "version": "3.7.3"
  }
 },
 "nbformat": 4,
 "nbformat_minor": 2
}
